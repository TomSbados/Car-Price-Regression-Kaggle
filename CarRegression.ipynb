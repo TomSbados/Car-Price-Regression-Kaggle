{
 "cells": [
  {
   "cell_type": "code",
   "execution_count": 338,
   "id": "fa8b0fd4-0480-44c1-a446-2fc168f82dc5",
   "metadata": {},
   "outputs": [],
   "source": [
    "import numpy as np\n",
    "import pandas as pd\n",
    "import matplotlib.pyplot as plt\n",
    "import seaborn as sns\n",
    "import re\n",
    "import datetime as dt\n",
    "pd.set_option('display.max_columns', 500)"
   ]
  },
  {
   "cell_type": "code",
   "execution_count": 340,
   "id": "7f351aaa-c98e-4aee-a693-a022617adfad",
   "metadata": {},
   "outputs": [],
   "source": [
    "data = pd.read_csv('train.csv')\n",
    "test = pd.read_csv('test.csv')"
   ]
  },
  {
   "cell_type": "code",
   "execution_count": 341,
   "id": "6a722a32-300d-4739-9ead-130ffcdbacee",
   "metadata": {},
   "outputs": [
    {
     "data": {
      "text/plain": [
       "(188533, 13)"
      ]
     },
     "execution_count": 341,
     "metadata": {},
     "output_type": "execute_result"
    }
   ],
   "source": [
    "data.shape"
   ]
  },
  {
   "cell_type": "code",
   "execution_count": 342,
   "id": "ae3c90ca-fe34-43ae-880a-8b9b71b3e5e9",
   "metadata": {},
   "outputs": [
    {
     "data": {
      "text/html": [
       "<div>\n",
       "<style scoped>\n",
       "    .dataframe tbody tr th:only-of-type {\n",
       "        vertical-align: middle;\n",
       "    }\n",
       "\n",
       "    .dataframe tbody tr th {\n",
       "        vertical-align: top;\n",
       "    }\n",
       "\n",
       "    .dataframe thead th {\n",
       "        text-align: right;\n",
       "    }\n",
       "</style>\n",
       "<table border=\"1\" class=\"dataframe\">\n",
       "  <thead>\n",
       "    <tr style=\"text-align: right;\">\n",
       "      <th></th>\n",
       "      <th>id</th>\n",
       "      <th>brand</th>\n",
       "      <th>model</th>\n",
       "      <th>model_year</th>\n",
       "      <th>milage</th>\n",
       "      <th>fuel_type</th>\n",
       "      <th>engine</th>\n",
       "      <th>transmission</th>\n",
       "      <th>ext_col</th>\n",
       "      <th>int_col</th>\n",
       "      <th>accident</th>\n",
       "      <th>clean_title</th>\n",
       "      <th>price</th>\n",
       "    </tr>\n",
       "  </thead>\n",
       "  <tbody>\n",
       "    <tr>\n",
       "      <th>0</th>\n",
       "      <td>0</td>\n",
       "      <td>MINI</td>\n",
       "      <td>Cooper S Base</td>\n",
       "      <td>2007</td>\n",
       "      <td>213000</td>\n",
       "      <td>Gasoline</td>\n",
       "      <td>172.0HP 1.6L 4 Cylinder Engine Gasoline Fuel</td>\n",
       "      <td>A/T</td>\n",
       "      <td>Yellow</td>\n",
       "      <td>Gray</td>\n",
       "      <td>None reported</td>\n",
       "      <td>Yes</td>\n",
       "      <td>4200</td>\n",
       "    </tr>\n",
       "    <tr>\n",
       "      <th>1</th>\n",
       "      <td>1</td>\n",
       "      <td>Lincoln</td>\n",
       "      <td>LS V8</td>\n",
       "      <td>2002</td>\n",
       "      <td>143250</td>\n",
       "      <td>Gasoline</td>\n",
       "      <td>252.0HP 3.9L 8 Cylinder Engine Gasoline Fuel</td>\n",
       "      <td>A/T</td>\n",
       "      <td>Silver</td>\n",
       "      <td>Beige</td>\n",
       "      <td>At least 1 accident or damage reported</td>\n",
       "      <td>Yes</td>\n",
       "      <td>4999</td>\n",
       "    </tr>\n",
       "    <tr>\n",
       "      <th>2</th>\n",
       "      <td>2</td>\n",
       "      <td>Chevrolet</td>\n",
       "      <td>Silverado 2500 LT</td>\n",
       "      <td>2002</td>\n",
       "      <td>136731</td>\n",
       "      <td>E85 Flex Fuel</td>\n",
       "      <td>320.0HP 5.3L 8 Cylinder Engine Flex Fuel Capab...</td>\n",
       "      <td>A/T</td>\n",
       "      <td>Blue</td>\n",
       "      <td>Gray</td>\n",
       "      <td>None reported</td>\n",
       "      <td>Yes</td>\n",
       "      <td>13900</td>\n",
       "    </tr>\n",
       "    <tr>\n",
       "      <th>3</th>\n",
       "      <td>3</td>\n",
       "      <td>Genesis</td>\n",
       "      <td>G90 5.0 Ultimate</td>\n",
       "      <td>2017</td>\n",
       "      <td>19500</td>\n",
       "      <td>Gasoline</td>\n",
       "      <td>420.0HP 5.0L 8 Cylinder Engine Gasoline Fuel</td>\n",
       "      <td>Transmission w/Dual Shift Mode</td>\n",
       "      <td>Black</td>\n",
       "      <td>Black</td>\n",
       "      <td>None reported</td>\n",
       "      <td>Yes</td>\n",
       "      <td>45000</td>\n",
       "    </tr>\n",
       "    <tr>\n",
       "      <th>4</th>\n",
       "      <td>4</td>\n",
       "      <td>Mercedes-Benz</td>\n",
       "      <td>Metris Base</td>\n",
       "      <td>2021</td>\n",
       "      <td>7388</td>\n",
       "      <td>Gasoline</td>\n",
       "      <td>208.0HP 2.0L 4 Cylinder Engine Gasoline Fuel</td>\n",
       "      <td>7-Speed A/T</td>\n",
       "      <td>Black</td>\n",
       "      <td>Beige</td>\n",
       "      <td>None reported</td>\n",
       "      <td>Yes</td>\n",
       "      <td>97500</td>\n",
       "    </tr>\n",
       "  </tbody>\n",
       "</table>\n",
       "</div>"
      ],
      "text/plain": [
       "   id          brand              model  model_year  milage      fuel_type  \\\n",
       "0   0           MINI      Cooper S Base        2007  213000       Gasoline   \n",
       "1   1        Lincoln              LS V8        2002  143250       Gasoline   \n",
       "2   2      Chevrolet  Silverado 2500 LT        2002  136731  E85 Flex Fuel   \n",
       "3   3        Genesis   G90 5.0 Ultimate        2017   19500       Gasoline   \n",
       "4   4  Mercedes-Benz        Metris Base        2021    7388       Gasoline   \n",
       "\n",
       "                                              engine  \\\n",
       "0       172.0HP 1.6L 4 Cylinder Engine Gasoline Fuel   \n",
       "1       252.0HP 3.9L 8 Cylinder Engine Gasoline Fuel   \n",
       "2  320.0HP 5.3L 8 Cylinder Engine Flex Fuel Capab...   \n",
       "3       420.0HP 5.0L 8 Cylinder Engine Gasoline Fuel   \n",
       "4       208.0HP 2.0L 4 Cylinder Engine Gasoline Fuel   \n",
       "\n",
       "                     transmission ext_col int_col  \\\n",
       "0                             A/T  Yellow    Gray   \n",
       "1                             A/T  Silver   Beige   \n",
       "2                             A/T    Blue    Gray   \n",
       "3  Transmission w/Dual Shift Mode   Black   Black   \n",
       "4                     7-Speed A/T   Black   Beige   \n",
       "\n",
       "                                 accident clean_title  price  \n",
       "0                           None reported         Yes   4200  \n",
       "1  At least 1 accident or damage reported         Yes   4999  \n",
       "2                           None reported         Yes  13900  \n",
       "3                           None reported         Yes  45000  \n",
       "4                           None reported         Yes  97500  "
      ]
     },
     "execution_count": 342,
     "metadata": {},
     "output_type": "execute_result"
    }
   ],
   "source": [
    "data.head()"
   ]
  },
  {
   "cell_type": "code",
   "execution_count": 346,
   "id": "3d3cd41a-7553-4c85-9faa-dae5c70054df",
   "metadata": {},
   "outputs": [],
   "source": [
    "def extract_transmission_info(row):\n",
    "    # Standardize transmission types\n",
    "    row = row.upper()  # Make everything uppercase for consistency\n",
    "\n",
    "    # Check for Automatic Transmission (A/T)\n",
    "    if re.search(r'(A/T|AUTOMATIC|AUTO)', row):\n",
    "        transmission_type = 'Automatic'\n",
    "    # Check for Manual Transmission (M/T)\n",
    "    elif re.search(r'(M/T|MANUAL)', row):\n",
    "        transmission_type = 'Manual'\n",
    "    # Check for CVT Transmission\n",
    "    elif re.search(r'(CVT)', row):\n",
    "        transmission_type = 'CVT'\n",
    "    # Check for Single-Speed Transmission\n",
    "    elif re.search(r'(1-SPEED|SINGLE-SPEED)', row):\n",
    "        transmission_type = 'Single-Speed'\n",
    "    else:\n",
    "        transmission_type = 'Other'\n",
    "\n",
    "    # Extract the number of speeds\n",
    "    match = re.search(r'(\\d+)-SPEED', row)\n",
    "    if match:\n",
    "        speeds = int(match.group(1))  # Convert to integer\n",
    "    else:\n",
    "        speeds = None  # If no speed is mentioned, set to None\n",
    "\n",
    "    # Return as separate values\n",
    "    return transmission_type, speeds\n",
    "\n",
    "# Assuming `data['transmission']` contains the transmission data\n",
    "data[['transmission_type', 'number_of_gears']] = data['transmission'].apply(\n",
    "    lambda row: pd.Series(extract_transmission_info(row))\n",
    ")\n",
    "test[['transmission_type', 'number_of_gears']] = test['transmission'].apply(\n",
    "    lambda row: pd.Series(extract_transmission_info(row))\n",
    ")"
   ]
  },
  {
   "cell_type": "code",
   "execution_count": 347,
   "id": "b59d9bea-b616-4f81-88d0-5433b5e207cf",
   "metadata": {},
   "outputs": [],
   "source": [
    "data['clean_title'] = data.clean_title.fillna('No')\n",
    "test['clean_title'] = test.clean_title.fillna('No')"
   ]
  },
  {
   "cell_type": "code",
   "execution_count": 348,
   "id": "0050f470-5519-481f-9878-75b936438354",
   "metadata": {},
   "outputs": [
    {
     "data": {
      "text/plain": [
       "1897"
      ]
     },
     "execution_count": 348,
     "metadata": {},
     "output_type": "execute_result"
    }
   ],
   "source": [
    "len(data.model.unique())"
   ]
  },
  {
   "cell_type": "code",
   "execution_count": 349,
   "id": "f9c33833-91d1-4041-a83c-a86428db5d39",
   "metadata": {},
   "outputs": [],
   "source": [
    "def extract_hp(row):\n",
    "    match = re.search(r'(\\d+\\.?\\d*)HP', row)\n",
    "    return float(match.group(1)) if match else None\n",
    "\n",
    "def extract_engine_size(row):\n",
    "    match = re.search(r'(\\d+\\.?\\d*)L', row)\n",
    "    return float(match.group(1)) if match else None\n",
    "\n",
    "def extract_cylinders(row):\n",
    "    # First, check for explicit \"Cylinder\" mentions\n",
    "    match = re.search(r'(\\d+)\\s*Cylinders?|V(\\d+)\\s*Cylinders?', row, re.IGNORECASE)\n",
    "    if match:\n",
    "        return int(match.group(1)) if match.group(1) else int(match.group(2))\n",
    "    \n",
    "    # If no \"Cylinder\" mentions, check for \"V6\" or \"Inline4\" etc.\n",
    "    match = re.search(r'V(\\d+)|Inline(\\d+)', row, re.IGNORECASE)\n",
    "    if match:\n",
    "        return int(match.group(1)) if match.group(1) else int(match.group(2))\n",
    "    \n",
    "    return None  # Return None if no match is found\n",
    "\n",
    "def extract_fuel_type(row):\n",
    "    match = re.search(r'(Gasoline|Diesel|Flex\\sFuel|Electric)', row, re.IGNORECASE)\n",
    "    return match.group(1) if match else None\n",
    "\n",
    "#def extract_engine_type(row):\n",
    "#    match = re.search(r'(V\\d+|Inline)', row, re.IGNORECASE)\n",
    "#    return match.group(1) if match else None\n",
    "\n",
    "def extract_fuel_capability(row):\n",
    "    if 'Flex Fuel' in row:\n",
    "        return 'Flex Fuel'\n",
    "    elif 'Hybrid' in row:\n",
    "        return 'Hybrid'\n",
    "    elif 'Electric' in row:\n",
    "        return 'Electric'\n",
    "    else:\n",
    "        return None\n",
    "\n",
    "# Apply the functions to extract the information from the rows\n",
    "data['HP'] = data['engine'].apply(extract_hp)\n",
    "data['Engine_Size_L'] = data['engine'].apply(extract_engine_size)\n",
    "data['Cylinders'] = data['engine'].apply(extract_cylinders)\n",
    "data['Fuel_Type'] = data['engine'].apply(extract_fuel_type)\n",
    "data['Fuel_Capability'] = data['engine'].apply(extract_fuel_capability)\n",
    "\n",
    "test['HP'] = test['engine'].apply(extract_hp)\n",
    "test['Engine_Size_L'] = test['engine'].apply(extract_engine_size)\n",
    "test['Cylinders'] = test['engine'].apply(extract_cylinders)\n",
    "test['Fuel_Type'] = test['engine'].apply(extract_fuel_type)\n",
    "test['Fuel_Capability'] = test['engine'].apply(extract_fuel_capability)"
   ]
  },
  {
   "cell_type": "code",
   "execution_count": 350,
   "id": "fa360670-c524-4a9c-a584-199837f5a2af",
   "metadata": {},
   "outputs": [],
   "source": [
    "data['logprice'] = np.log(data.price)"
   ]
  },
  {
   "cell_type": "code",
   "execution_count": 351,
   "id": "a728ce0f-2903-4bd4-9f5d-6e993518f481",
   "metadata": {},
   "outputs": [],
   "source": [
    "# Function to extract useful information\n",
    "def extract_car_info(model):\n",
    "    info = {}\n",
    "    # Extract trim (assume the rest is the trim or variant)\n",
    "    trim_pattern = re.search(r'(SE|LE|Limited|Sport|Premium|Base|Platinum|P\\d+)', model, re.IGNORECASE)\n",
    "    info['trim'] = trim_pattern.group(0) if trim_pattern else None\n",
    "    \n",
    "    # Extract drivetrain\n",
    "    if 'xDrive' in model:\n",
    "        info['drivetrain'] = 'AWD'\n",
    "    elif '4MATIC' in model or '4WD' in model:\n",
    "        info['drivetrain'] = '4WD'\n",
    "    else:\n",
    "        info['drivetrain'] = 'FWD'  # Fallback assumption\n",
    "    \n",
    "    return info\n",
    "\n",
    "# Apply extraction\n",
    "data_info = data['model'].apply(extract_car_info)\n",
    "test_info = test['model'].apply(extract_car_info)\n",
    "\n",
    "\n",
    "# Show extracted information\n",
    "data[['trim', 'drivetrain']] = pd.DataFrame(data_info.tolist())\n",
    "test[['trim', 'drivetrain']] = pd.DataFrame(test_info.tolist())"
   ]
  },
  {
   "cell_type": "code",
   "execution_count": 352,
   "id": "28be44eb-6df1-41e4-89d5-604a0278dfed",
   "metadata": {},
   "outputs": [],
   "source": [
    "luxury_brands = ['Mercedes-Benz', 'Land',\n",
    "                 'Rivian', 'Alfa', 'Porsche', 'McLaren',\n",
    "                 'Jaguar', 'Rolls-Royce', 'Maserati',\n",
    "                 'Bentley', 'Ferrari', 'Aston', 'Lamborghini', 'Lucid', 'Lotus', 'Bugatti', 'Maybach']\n",
    "\n",
    "data['luxury'] = data['brand'].apply(lambda x: 1 if x in luxury_brands else 0)\n",
    "test['luxury'] = test['brand'].apply(lambda x: 1 if x in luxury_brands else 0)"
   ]
  },
  {
   "cell_type": "code",
   "execution_count": 353,
   "id": "c5bbbcad-15d4-45d5-bb8b-3a583f77ba12",
   "metadata": {},
   "outputs": [],
   "source": [
    "year = 2024\n",
    "\n",
    "data['age'] = 2024 - data['model_year']\n",
    "data['mpy'] = data['milage'] / (data['age'] + 1)\n",
    "\n",
    "test['age'] = 2024 - test['model_year']\n",
    "test['mpy'] = test['milage'] / (test['age'] + 1)"
   ]
  },
  {
   "cell_type": "code",
   "execution_count": 354,
   "id": "e3670994-2bc8-417b-8232-14115166736e",
   "metadata": {},
   "outputs": [
    {
     "data": {
      "text/plain": [
       "117500.0"
      ]
     },
     "execution_count": 354,
     "metadata": {},
     "output_type": "execute_result"
    }
   ],
   "source": [
    "data.mpy.max()"
   ]
  },
  {
   "cell_type": "code",
   "execution_count": 392,
   "id": "d2dde6ed-e6da-4e8d-807b-f3ef6a0b50c0",
   "metadata": {},
   "outputs": [],
   "source": [
    "from sklearn.linear_model import Ridge, Lasso, LinearRegression\n",
    "from sklearn.ensemble import RandomForestRegressor, StackingRegressor\n",
    "from xgboost import XGBRegressor\n",
    "\n",
    "from sklearn.preprocessing import OneHotEncoder, StandardScaler, OrdinalEncoder\n",
    "from sklearn.compose import ColumnTransformer\n",
    "from sklearn.model_selection import train_test_split\n",
    "from sklearn.impute import SimpleImputer\n",
    "from sklearn.metrics import root_mean_squared_error\n",
    "from sklearn.pipeline import Pipeline\n",
    "from lightgbm import LGBMRegressor"
   ]
  },
  {
   "cell_type": "code",
   "execution_count": 356,
   "id": "69313153-6a79-4f91-8143-1717e69e26ad",
   "metadata": {},
   "outputs": [],
   "source": [
    "X = data.drop(['id', 'engine', 'price', 'logprice', 'transmission', 'model'], axis=1)"
   ]
  },
  {
   "cell_type": "code",
   "execution_count": 357,
   "id": "cbb38e10-db16-4625-87a2-1c259beaa206",
   "metadata": {},
   "outputs": [],
   "source": [
    "y = data['price']\n",
    "\n",
    "\n",
    "num_cols = X.select_dtypes(include=['int64', 'float64']).columns.tolist()\n",
    "cat_cols = X.select_dtypes(include=['object']).columns.tolist()\n",
    "\n",
    "X_train, X_test, y_train, y_test = train_test_split(X, y, test_size=0.1, random_state=1337)"
   ]
  },
  {
   "cell_type": "code",
   "execution_count": 426,
   "id": "a227a28d-8ff6-4b21-9d01-15bda8247132",
   "metadata": {},
   "outputs": [],
   "source": [
    "num_trans = Pipeline(steps=[\n",
    "    ('impute', SimpleImputer(strategy='mean', add_indicator=True)),\n",
    "    ('scale', StandardScaler())\n",
    "])\n",
    "cat_trans = Pipeline(steps=[\n",
    "    ('impute', SimpleImputer(strategy='most_frequent', add_indicator=True)),\n",
    "    ('onehot', OrdinalEncoder())\n",
    "])\n",
    "preprocessor = ColumnTransformer(transformers=[\n",
    "    ('num', num_trans, num_cols),\n",
    "    ('cat', cat_trans, cat_cols)\n",
    "])\n",
    "\n",
    "model3 = RandomForestRegressor(n_estimators=100, max_features=0.7)\n",
    "#model = LinearRegression()\n",
    "#model = Lasso(alpha=0.1)\n",
    "#model = Ridge(alpha=0.1)\n",
    "model2 = XGBRegressor(n_estimators=50, learning_rate=0.1, random_state=42)\n",
    "model1 = LGBMRegressor(n_estimators=300, learning_rate=0.05, random_state=42)\n",
    "\n",
    "pipeline1 = Pipeline(steps=[\n",
    "    ('process', preprocessor),\n",
    "    ('model', model1)\n",
    "])\n",
    "pipeline2 = Pipeline(steps=[\n",
    "    ('process', preprocessor),\n",
    "    ('model', model2)\n",
    "])\n"
   ]
  },
  {
   "cell_type": "code",
   "execution_count": 428,
   "id": "ee650caa-e4c6-4813-95ac-4bcdb7e5bb3c",
   "metadata": {},
   "outputs": [
    {
     "name": "stdout",
     "output_type": "stream",
     "text": [
      "[LightGBM] [Info] Auto-choosing row-wise multi-threading, the overhead of testing was 0.008122 seconds.\n",
      "You can set `force_row_wise=true` to remove the overhead.\n",
      "And if memory is not enough, you can set `force_col_wise=true`.\n",
      "[LightGBM] [Info] Total Bins 1362\n",
      "[LightGBM] [Info] Number of data points in the train set: 188533, number of used features: 26\n",
      "[LightGBM] [Info] Start training from score 43878.016178\n",
      "[LightGBM] [Info] Auto-choosing col-wise multi-threading, the overhead of testing was 0.021990 seconds.\n",
      "You can set `force_col_wise=true` to remove the overhead.\n",
      "[LightGBM] [Info] Total Bins 1362\n",
      "[LightGBM] [Info] Number of data points in the train set: 150826, number of used features: 26\n",
      "[LightGBM] [Info] Start training from score 43829.197671\n",
      "[LightGBM] [Info] Auto-choosing row-wise multi-threading, the overhead of testing was 0.011344 seconds.\n",
      "You can set `force_row_wise=true` to remove the overhead.\n",
      "And if memory is not enough, you can set `force_col_wise=true`.\n",
      "[LightGBM] [Info] Total Bins 1350\n",
      "[LightGBM] [Info] Number of data points in the train set: 150826, number of used features: 26\n",
      "[LightGBM] [Info] Start training from score 43923.098219\n",
      "[LightGBM] [Info] Auto-choosing row-wise multi-threading, the overhead of testing was 0.012284 seconds.\n",
      "You can set `force_row_wise=true` to remove the overhead.\n",
      "And if memory is not enough, you can set `force_col_wise=true`.\n",
      "[LightGBM] [Info] Total Bins 1354\n",
      "[LightGBM] [Info] Number of data points in the train set: 150827, number of used features: 26\n",
      "[LightGBM] [Info] Start training from score 43968.734504\n",
      "[LightGBM] [Info] Auto-choosing row-wise multi-threading, the overhead of testing was 0.011808 seconds.\n",
      "You can set `force_row_wise=true` to remove the overhead.\n",
      "And if memory is not enough, you can set `force_col_wise=true`.\n",
      "[LightGBM] [Info] Total Bins 1362\n",
      "[LightGBM] [Info] Number of data points in the train set: 150827, number of used features: 26\n",
      "[LightGBM] [Info] Start training from score 43809.502854\n",
      "[LightGBM] [Info] Auto-choosing row-wise multi-threading, the overhead of testing was 0.011978 seconds.\n",
      "You can set `force_row_wise=true` to remove the overhead.\n",
      "And if memory is not enough, you can set `force_col_wise=true`.\n",
      "[LightGBM] [Info] Total Bins 1364\n",
      "[LightGBM] [Info] Number of data points in the train set: 150826, number of used features: 26\n",
      "[LightGBM] [Info] Start training from score 43859.547492\n"
     ]
    }
   ],
   "source": [
    "base_models = [\n",
    "    ('rf', pipeline1),\n",
    "    ('xgb', pipeline2)\n",
    "]\n",
    "\n",
    "# Define the meta-model (Level-2 model)\n",
    "meta_model = Ridge(alpha=0.1)\n",
    "\n",
    "# Define the stacking regressor\n",
    "stacked_model = StackingRegressor(estimators=base_models, final_estimator=meta_model, cv=5, n_jobs=-1)\n",
    "\n",
    "# Fit the stacked model\n",
    "stacked_model.fit(X, y)\n",
    "\n",
    "# Make predictions\n",
    "y_pred_stacked = stacked_model.predict(X)"
   ]
  },
  {
   "cell_type": "code",
   "execution_count": 430,
   "id": "52c31625-2fa5-40c3-a3e4-c9205b3966af",
   "metadata": {},
   "outputs": [
    {
     "data": {
      "text/plain": [
       "68003.90998146245"
      ]
     },
     "execution_count": 430,
     "metadata": {},
     "output_type": "execute_result"
    }
   ],
   "source": [
    "preds = stacked_model.predict(X_train)\n",
    "root_mean_squared_error(preds, y_train)"
   ]
  },
  {
   "cell_type": "code",
   "execution_count": 432,
   "id": "172d5573-71c4-493d-9a87-1360aab78ac4",
   "metadata": {},
   "outputs": [
    {
     "data": {
      "text/plain": [
       "73593.86914276036"
      ]
     },
     "execution_count": 432,
     "metadata": {},
     "output_type": "execute_result"
    }
   ],
   "source": [
    "preds = stacked_model.predict(X_test)\n",
    "root_mean_squared_error(preds, y_test)"
   ]
  },
  {
   "cell_type": "code",
   "execution_count": 434,
   "id": "1a5bc8ca-ada6-43a4-a8b8-a105dd91f8fd",
   "metadata": {},
   "outputs": [
    {
     "ename": "KeyError",
     "evalue": "\"['engine', 'transmission', 'model'] not found in axis\"",
     "output_type": "error",
     "traceback": [
      "\u001b[0;31m---------------------------------------------------------------------------\u001b[0m",
      "\u001b[0;31mKeyError\u001b[0m                                  Traceback (most recent call last)",
      "Cell \u001b[0;32mIn[434], line 2\u001b[0m\n\u001b[1;32m      1\u001b[0m test \u001b[38;5;241m=\u001b[39m test\u001b[38;5;241m.\u001b[39mset_index(\u001b[38;5;124m'\u001b[39m\u001b[38;5;124mid\u001b[39m\u001b[38;5;124m'\u001b[39m)\n\u001b[0;32m----> 2\u001b[0m test \u001b[38;5;241m=\u001b[39m test\u001b[38;5;241m.\u001b[39mdrop([\u001b[38;5;124m'\u001b[39m\u001b[38;5;124mengine\u001b[39m\u001b[38;5;124m'\u001b[39m, \u001b[38;5;124m'\u001b[39m\u001b[38;5;124mtransmission\u001b[39m\u001b[38;5;124m'\u001b[39m, \u001b[38;5;124m'\u001b[39m\u001b[38;5;124mmodel\u001b[39m\u001b[38;5;124m'\u001b[39m], axis\u001b[38;5;241m=\u001b[39m\u001b[38;5;241m1\u001b[39m)\n",
      "File \u001b[0;32m/opt/anaconda3/lib/python3.12/site-packages/pandas/core/frame.py:5581\u001b[0m, in \u001b[0;36mDataFrame.drop\u001b[0;34m(self, labels, axis, index, columns, level, inplace, errors)\u001b[0m\n\u001b[1;32m   5433\u001b[0m \u001b[38;5;28;01mdef\u001b[39;00m \u001b[38;5;21mdrop\u001b[39m(\n\u001b[1;32m   5434\u001b[0m     \u001b[38;5;28mself\u001b[39m,\n\u001b[1;32m   5435\u001b[0m     labels: IndexLabel \u001b[38;5;241m|\u001b[39m \u001b[38;5;28;01mNone\u001b[39;00m \u001b[38;5;241m=\u001b[39m \u001b[38;5;28;01mNone\u001b[39;00m,\n\u001b[0;32m   (...)\u001b[0m\n\u001b[1;32m   5442\u001b[0m     errors: IgnoreRaise \u001b[38;5;241m=\u001b[39m \u001b[38;5;124m\"\u001b[39m\u001b[38;5;124mraise\u001b[39m\u001b[38;5;124m\"\u001b[39m,\n\u001b[1;32m   5443\u001b[0m ) \u001b[38;5;241m-\u001b[39m\u001b[38;5;241m>\u001b[39m DataFrame \u001b[38;5;241m|\u001b[39m \u001b[38;5;28;01mNone\u001b[39;00m:\n\u001b[1;32m   5444\u001b[0m \u001b[38;5;250m    \u001b[39m\u001b[38;5;124;03m\"\"\"\u001b[39;00m\n\u001b[1;32m   5445\u001b[0m \u001b[38;5;124;03m    Drop specified labels from rows or columns.\u001b[39;00m\n\u001b[1;32m   5446\u001b[0m \n\u001b[0;32m   (...)\u001b[0m\n\u001b[1;32m   5579\u001b[0m \u001b[38;5;124;03m            weight  1.0     0.8\u001b[39;00m\n\u001b[1;32m   5580\u001b[0m \u001b[38;5;124;03m    \"\"\"\u001b[39;00m\n\u001b[0;32m-> 5581\u001b[0m     \u001b[38;5;28;01mreturn\u001b[39;00m \u001b[38;5;28msuper\u001b[39m()\u001b[38;5;241m.\u001b[39mdrop(\n\u001b[1;32m   5582\u001b[0m         labels\u001b[38;5;241m=\u001b[39mlabels,\n\u001b[1;32m   5583\u001b[0m         axis\u001b[38;5;241m=\u001b[39maxis,\n\u001b[1;32m   5584\u001b[0m         index\u001b[38;5;241m=\u001b[39mindex,\n\u001b[1;32m   5585\u001b[0m         columns\u001b[38;5;241m=\u001b[39mcolumns,\n\u001b[1;32m   5586\u001b[0m         level\u001b[38;5;241m=\u001b[39mlevel,\n\u001b[1;32m   5587\u001b[0m         inplace\u001b[38;5;241m=\u001b[39minplace,\n\u001b[1;32m   5588\u001b[0m         errors\u001b[38;5;241m=\u001b[39merrors,\n\u001b[1;32m   5589\u001b[0m     )\n",
      "File \u001b[0;32m/opt/anaconda3/lib/python3.12/site-packages/pandas/core/generic.py:4788\u001b[0m, in \u001b[0;36mNDFrame.drop\u001b[0;34m(self, labels, axis, index, columns, level, inplace, errors)\u001b[0m\n\u001b[1;32m   4786\u001b[0m \u001b[38;5;28;01mfor\u001b[39;00m axis, labels \u001b[38;5;129;01min\u001b[39;00m axes\u001b[38;5;241m.\u001b[39mitems():\n\u001b[1;32m   4787\u001b[0m     \u001b[38;5;28;01mif\u001b[39;00m labels \u001b[38;5;129;01mis\u001b[39;00m \u001b[38;5;129;01mnot\u001b[39;00m \u001b[38;5;28;01mNone\u001b[39;00m:\n\u001b[0;32m-> 4788\u001b[0m         obj \u001b[38;5;241m=\u001b[39m obj\u001b[38;5;241m.\u001b[39m_drop_axis(labels, axis, level\u001b[38;5;241m=\u001b[39mlevel, errors\u001b[38;5;241m=\u001b[39merrors)\n\u001b[1;32m   4790\u001b[0m \u001b[38;5;28;01mif\u001b[39;00m inplace:\n\u001b[1;32m   4791\u001b[0m     \u001b[38;5;28mself\u001b[39m\u001b[38;5;241m.\u001b[39m_update_inplace(obj)\n",
      "File \u001b[0;32m/opt/anaconda3/lib/python3.12/site-packages/pandas/core/generic.py:4830\u001b[0m, in \u001b[0;36mNDFrame._drop_axis\u001b[0;34m(self, labels, axis, level, errors, only_slice)\u001b[0m\n\u001b[1;32m   4828\u001b[0m         new_axis \u001b[38;5;241m=\u001b[39m axis\u001b[38;5;241m.\u001b[39mdrop(labels, level\u001b[38;5;241m=\u001b[39mlevel, errors\u001b[38;5;241m=\u001b[39merrors)\n\u001b[1;32m   4829\u001b[0m     \u001b[38;5;28;01melse\u001b[39;00m:\n\u001b[0;32m-> 4830\u001b[0m         new_axis \u001b[38;5;241m=\u001b[39m axis\u001b[38;5;241m.\u001b[39mdrop(labels, errors\u001b[38;5;241m=\u001b[39merrors)\n\u001b[1;32m   4831\u001b[0m     indexer \u001b[38;5;241m=\u001b[39m axis\u001b[38;5;241m.\u001b[39mget_indexer(new_axis)\n\u001b[1;32m   4833\u001b[0m \u001b[38;5;66;03m# Case for non-unique axis\u001b[39;00m\n\u001b[1;32m   4834\u001b[0m \u001b[38;5;28;01melse\u001b[39;00m:\n",
      "File \u001b[0;32m/opt/anaconda3/lib/python3.12/site-packages/pandas/core/indexes/base.py:7070\u001b[0m, in \u001b[0;36mIndex.drop\u001b[0;34m(self, labels, errors)\u001b[0m\n\u001b[1;32m   7068\u001b[0m \u001b[38;5;28;01mif\u001b[39;00m mask\u001b[38;5;241m.\u001b[39many():\n\u001b[1;32m   7069\u001b[0m     \u001b[38;5;28;01mif\u001b[39;00m errors \u001b[38;5;241m!=\u001b[39m \u001b[38;5;124m\"\u001b[39m\u001b[38;5;124mignore\u001b[39m\u001b[38;5;124m\"\u001b[39m:\n\u001b[0;32m-> 7070\u001b[0m         \u001b[38;5;28;01mraise\u001b[39;00m \u001b[38;5;167;01mKeyError\u001b[39;00m(\u001b[38;5;124mf\u001b[39m\u001b[38;5;124m\"\u001b[39m\u001b[38;5;132;01m{\u001b[39;00mlabels[mask]\u001b[38;5;241m.\u001b[39mtolist()\u001b[38;5;132;01m}\u001b[39;00m\u001b[38;5;124m not found in axis\u001b[39m\u001b[38;5;124m\"\u001b[39m)\n\u001b[1;32m   7071\u001b[0m     indexer \u001b[38;5;241m=\u001b[39m indexer[\u001b[38;5;241m~\u001b[39mmask]\n\u001b[1;32m   7072\u001b[0m \u001b[38;5;28;01mreturn\u001b[39;00m \u001b[38;5;28mself\u001b[39m\u001b[38;5;241m.\u001b[39mdelete(indexer)\n",
      "\u001b[0;31mKeyError\u001b[0m: \"['engine', 'transmission', 'model'] not found in axis\""
     ]
    }
   ],
   "source": [
    "test = test.set_index('id')\n",
    "test = test.drop(['engine', 'transmission', 'model'], axis=1)"
   ]
  },
  {
   "cell_type": "code",
   "execution_count": 436,
   "id": "e9c0e29b-9a32-4b91-8cc2-105573918fa0",
   "metadata": {},
   "outputs": [],
   "source": [
    "preds = stacked_model.predict(test)"
   ]
  },
  {
   "cell_type": "code",
   "execution_count": 437,
   "id": "a8cbd7ae-c2f8-48f0-8fa6-6b0160cab0a2",
   "metadata": {},
   "outputs": [],
   "source": [
    "test = test.reset_index()\n",
    "ids = test['id']"
   ]
  },
  {
   "cell_type": "code",
   "execution_count": 440,
   "id": "50140b5f-4ddf-47da-90c2-8fed62fb7cff",
   "metadata": {},
   "outputs": [
    {
     "data": {
      "text/html": [
       "<div>\n",
       "<style scoped>\n",
       "    .dataframe tbody tr th:only-of-type {\n",
       "        vertical-align: middle;\n",
       "    }\n",
       "\n",
       "    .dataframe tbody tr th {\n",
       "        vertical-align: top;\n",
       "    }\n",
       "\n",
       "    .dataframe thead th {\n",
       "        text-align: right;\n",
       "    }\n",
       "</style>\n",
       "<table border=\"1\" class=\"dataframe\">\n",
       "  <thead>\n",
       "    <tr style=\"text-align: right;\">\n",
       "      <th></th>\n",
       "      <th>price</th>\n",
       "    </tr>\n",
       "    <tr>\n",
       "      <th>id</th>\n",
       "      <th></th>\n",
       "    </tr>\n",
       "  </thead>\n",
       "  <tbody>\n",
       "    <tr>\n",
       "      <th>188533</th>\n",
       "      <td>19942.961756</td>\n",
       "    </tr>\n",
       "    <tr>\n",
       "      <th>188534</th>\n",
       "      <td>83170.137747</td>\n",
       "    </tr>\n",
       "    <tr>\n",
       "      <th>188535</th>\n",
       "      <td>73794.772170</td>\n",
       "    </tr>\n",
       "    <tr>\n",
       "      <th>188536</th>\n",
       "      <td>30138.870150</td>\n",
       "    </tr>\n",
       "    <tr>\n",
       "      <th>188537</th>\n",
       "      <td>30781.961946</td>\n",
       "    </tr>\n",
       "    <tr>\n",
       "      <th>...</th>\n",
       "      <td>...</td>\n",
       "    </tr>\n",
       "    <tr>\n",
       "      <th>314218</th>\n",
       "      <td>29514.620224</td>\n",
       "    </tr>\n",
       "    <tr>\n",
       "      <th>314219</th>\n",
       "      <td>46218.482325</td>\n",
       "    </tr>\n",
       "    <tr>\n",
       "      <th>314220</th>\n",
       "      <td>25025.906490</td>\n",
       "    </tr>\n",
       "    <tr>\n",
       "      <th>314221</th>\n",
       "      <td>17269.576648</td>\n",
       "    </tr>\n",
       "    <tr>\n",
       "      <th>314222</th>\n",
       "      <td>38006.793618</td>\n",
       "    </tr>\n",
       "  </tbody>\n",
       "</table>\n",
       "<p>125690 rows × 1 columns</p>\n",
       "</div>"
      ],
      "text/plain": [
       "               price\n",
       "id                  \n",
       "188533  19942.961756\n",
       "188534  83170.137747\n",
       "188535  73794.772170\n",
       "188536  30138.870150\n",
       "188537  30781.961946\n",
       "...              ...\n",
       "314218  29514.620224\n",
       "314219  46218.482325\n",
       "314220  25025.906490\n",
       "314221  17269.576648\n",
       "314222  38006.793618\n",
       "\n",
       "[125690 rows x 1 columns]"
      ]
     },
     "execution_count": 440,
     "metadata": {},
     "output_type": "execute_result"
    }
   ],
   "source": [
    "submission_df = pd.DataFrame({'id' : ids, 'price' : preds})\n",
    "submission_df.set_index('id')"
   ]
  },
  {
   "cell_type": "code",
   "execution_count": 442,
   "id": "d3168c2d-7feb-4f2e-b0cc-4913af3a3bc4",
   "metadata": {},
   "outputs": [],
   "source": [
    "submission_df.to_csv('submission.csv', index=False)"
   ]
  },
  {
   "cell_type": "code",
   "execution_count": null,
   "id": "d2496ae7-3df2-4542-83b3-06fcf79c68cb",
   "metadata": {},
   "outputs": [],
   "source": []
  }
 ],
 "metadata": {
  "kernelspec": {
   "display_name": "Python 3 (ipykernel)",
   "language": "python",
   "name": "python3"
  },
  "language_info": {
   "codemirror_mode": {
    "name": "ipython",
    "version": 3
   },
   "file_extension": ".py",
   "mimetype": "text/x-python",
   "name": "python",
   "nbconvert_exporter": "python",
   "pygments_lexer": "ipython3",
   "version": "3.12.4"
  }
 },
 "nbformat": 4,
 "nbformat_minor": 5
}
